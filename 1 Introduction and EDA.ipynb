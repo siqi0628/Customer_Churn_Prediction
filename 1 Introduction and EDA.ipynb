{
 "cells": [
  {
   "cell_type": "markdown",
   "id": "a0d3a673-1946-4db2-a6f6-a8f4297a125b",
   "metadata": {},
   "source": [
    "# 1. Introduction"
   ]
  },
  {
   "cell_type": "markdown",
   "id": "1b9dc81d-9a50-46f5-91bc-6c583edc9112",
   "metadata": {},
   "source": [
    "### 1.1 Background and Goal\n",
    "\n",
    "In the highly competitive landscape of mobile applications, retaining users is crucial for sustaining growth and profitability. Our food short video app faces significant challenges with user churn, where users uninstall the app after a short period of engagement. Identifying and predicting which users are likely to churn allows us to proactively address the factors contributing to their disengagement. By implementing a predictive model for user churn, we can tailor our marketing strategies, enhance user experience, and ultimately improve retention rates.\n",
    "\n",
    "This project aims to leverage data analytics and machine learning techniques to forecast churn and inform targeted interventions, ensuring the long-term success and competitiveness of our app.\n",
    "\n",
    "### 1.2 Criteria for Defining Churn\n",
    "\n",
    "- Inactivity Duration: The user has not logged into the app for a significant period (e.g., 30 days).\n",
    "- Low Engagement: The user has minimal or no interactions with the app over a defined period (e.g., watched fewer than 5 videos, given fewer than 3 likes, or spent less than 10 minutes on the app in the past month).\n",
    "- Combination of Factors: A combination of inactivity and low engagement metrics can be used to identify churn."
   ]
  },
  {
   "cell_type": "markdown",
   "id": "7690504b-25b4-43aa-8782-c0ea9942c737",
   "metadata": {},
   "source": [
    "### 1.3 Data Overview\n",
    "\n",
    "The dataset from Meetfood consists of 155,732 records with 30 features. The daraset includes information about:\n",
    "1. UserID: A unique identifier for each user in the dataset.\n",
    "2. Age: The age of the user.\n",
    "3. Gender: The gender of the user, which can be 'Male' or 'Female'.\n",
    "4. Country: The country where the user is located, selected from 'US', 'Canada', 'UK', 'Australia', or 'India'.\n",
    "5. DeviceType: The type of device used by the user, such as 'Mobile', 'Tablet', or 'Desktop'.\n",
    "6. "
   ]
  },
  {
   "cell_type": "markdown",
   "id": "5bee93df-1bc3-4d73-a4b0-b455dd3eac7d",
   "metadata": {},
   "source": [
    "# 3. Exploratory Data Analysis"
   ]
  },
  {
   "cell_type": "code",
   "execution_count": null,
   "id": "91788a7e-869e-46a3-91c3-a18ba5052403",
   "metadata": {},
   "outputs": [],
   "source": []
  },
  {
   "cell_type": "code",
   "execution_count": null,
   "id": "3bda7695-81ad-4847-8179-841aab044a76",
   "metadata": {},
   "outputs": [],
   "source": []
  },
  {
   "cell_type": "code",
   "execution_count": null,
   "id": "0760634e-569b-4fb8-9b3e-7e533e229ac2",
   "metadata": {},
   "outputs": [],
   "source": []
  },
  {
   "cell_type": "code",
   "execution_count": null,
   "id": "79cc5738-356c-47eb-a3b9-5843ca8bd39a",
   "metadata": {},
   "outputs": [],
   "source": []
  },
  {
   "cell_type": "code",
   "execution_count": null,
   "id": "832bf321-589b-4037-b137-559f155952f7",
   "metadata": {},
   "outputs": [],
   "source": []
  },
  {
   "cell_type": "code",
   "execution_count": null,
   "id": "aadcfe0e-6cfd-40c1-8db5-825931efacaf",
   "metadata": {},
   "outputs": [],
   "source": []
  },
  {
   "cell_type": "code",
   "execution_count": null,
   "id": "504657d6-c96b-41d2-a5da-c71d15755206",
   "metadata": {},
   "outputs": [],
   "source": []
  },
  {
   "cell_type": "code",
   "execution_count": null,
   "id": "364b324d-50fa-4546-a788-9d2fa15d1638",
   "metadata": {},
   "outputs": [],
   "source": []
  },
  {
   "cell_type": "code",
   "execution_count": null,
   "id": "f485279d-b4e8-4c1c-a679-9dd3dd5ea99a",
   "metadata": {},
   "outputs": [],
   "source": []
  },
  {
   "cell_type": "code",
   "execution_count": null,
   "id": "e5843b65-0af1-419c-8848-bb27d89ddc09",
   "metadata": {},
   "outputs": [],
   "source": []
  }
 ],
 "metadata": {
  "kernelspec": {
   "display_name": "Python 3 (ipykernel)",
   "language": "python",
   "name": "python3"
  },
  "language_info": {
   "codemirror_mode": {
    "name": "ipython",
    "version": 3
   },
   "file_extension": ".py",
   "mimetype": "text/x-python",
   "name": "python",
   "nbconvert_exporter": "python",
   "pygments_lexer": "ipython3",
   "version": "3.11.5"
  }
 },
 "nbformat": 4,
 "nbformat_minor": 5
}
